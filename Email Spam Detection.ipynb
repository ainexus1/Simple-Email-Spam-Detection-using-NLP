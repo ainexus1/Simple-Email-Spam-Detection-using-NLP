{
 "cells": [
  {
   "cell_type": "code",
   "execution_count": 1,
   "id": "c7cd17b6-4c5c-4dba-b292-d77880da4007",
   "metadata": {},
   "outputs": [],
   "source": [
    "import numpy as np\n",
    "import pandas as pd\n",
    "import nltk\n",
    "import string\n",
    "from nltk.corpus import stopwords"
   ]
  },
  {
   "cell_type": "code",
   "execution_count": null,
   "id": "8a67ed10-6f20-4bed-b93d-f0a1bb58238a",
   "metadata": {},
   "outputs": [],
   "source": [
    "df = pd.read_csv(\"mail_data.csv\")\n",
    "df.head()"
   ]
  },
  {
   "cell_type": "code",
   "execution_count": null,
   "id": "72bf7e59-bdcb-4301-b446-e4283047f7fb",
   "metadata": {},
   "outputs": [],
   "source": [
    "df.drop_duplicates(inplace=True)\n",
    "print(df.shape)"
   ]
  },
  {
   "cell_type": "code",
   "execution_count": null,
   "id": "56922201-4d5d-4088-a67a-1c2be88bdc3a",
   "metadata": {},
   "outputs": [],
   "source": [
    "#download stopwords package\n",
    "nltk.download(\"stopwords\")"
   ]
  },
  {
   "cell_type": "code",
   "execution_count": null,
   "id": "15123d14-52b8-4546-a69c-bafdec7f5731",
   "metadata": {},
   "outputs": [],
   "source": [
    "def process(Message):\n",
    "    nopunc = [char for char in Message if char not in string.punctuation]\n",
    "    nopunc = ''.join(nopunc)\n",
    "    clean = [word for word in nopunc.split() if word.lower() not in stopwords.words('english')]\n",
    "    return clean\n",
    "\n",
    "df['Message'].head().apply(process)"
   ]
  },
  {
   "cell_type": "code",
   "execution_count": 15,
   "id": "a7ab8947-30b4-420c-8837-a3abf390fdf0",
   "metadata": {},
   "outputs": [],
   "source": [
    "#convert text into 0 matrix of token counts\n",
    "from sklearn.feature_extraction.text import CountVectorizer\n",
    "message = CountVectorizer(analyzer=process).fit_transform(df['Message'])"
   ]
  },
  {
   "cell_type": "code",
   "execution_count": null,
   "id": "0c3e0dca-10fc-424a-8330-d742d99257ea",
   "metadata": {},
   "outputs": [],
   "source": [
    "#split the data\n",
    "from sklearn.model_selection import train_test_split\n",
    "xtrain, xtest, ytrain, ytest = train_test_split(message, df['Category'], test_size = 0.2, random_state = 0)\n",
    "message.shape"
   ]
  },
  {
   "cell_type": "code",
   "execution_count": 19,
   "id": "7022cefd-5622-492c-84b8-41d8e0adf0be",
   "metadata": {},
   "outputs": [],
   "source": [
    "#create naive bayes classifier\n",
    "from sklearn.naive_bayes import MultinomialNB\n",
    "classifier = MultinomialNB().fit(xtrain, ytrain)"
   ]
  },
  {
   "cell_type": "code",
   "execution_count": null,
   "id": "ad246b7f-f139-423d-94d9-4dc20c9aba21",
   "metadata": {},
   "outputs": [],
   "source": [
    "#classifier prediction\n",
    "classifier.predict(xtrain)\n",
    "ytrain.values"
   ]
  },
  {
   "cell_type": "code",
   "execution_count": null,
   "id": "e0abfb96-f35a-4fc9-a212-a913f7a9d898",
   "metadata": {},
   "outputs": [],
   "source": [
    "#evaluate the model\n",
    "from sklearn.metrics import classification_report, confusion_matrix, accuracy_score\n",
    "pred = classifier.predict(xtrain)\n",
    "print(classification_report(pred, ytrain))\n",
    "print()\n",
    "print(\"Confusion Matrix: \\n\", confusion_matrix(ytrain, pred))\n",
    "print(\"Accuracy: \\n\", accuracy_score(ytrain, pred))"
   ]
  },
  {
   "cell_type": "code",
   "execution_count": null,
   "id": "972010f6-fef6-4adb-8e77-bf6f81409961",
   "metadata": {},
   "outputs": [],
   "source": [
    "#print the prediction\n",
    "print(classifier.predict(xtest))\n",
    "print(ytest.values)"
   ]
  },
  {
   "cell_type": "code",
   "execution_count": null,
   "id": "fc82cf30-f181-4427-a5a8-9948dc351cf2",
   "metadata": {},
   "outputs": [],
   "source": [
    "from sklearn.metrics import classification_report, confusion_matrix, accuracy_score\n",
    "pred = classifier.predict(xtest)\n",
    "print(classification_report(ytest, pred))\n",
    "print()\n",
    "print(\"Confusion_Matrix: \\n\", confusion_matrix(pred, ytest))\n",
    "print(\"Accuracy: \\n\", accuracy_score(ytest, pred))"
   ]
  }
 ],
 "metadata": {
  "kernelspec": {
   "display_name": "Python 3 (ipykernel)",
   "language": "python",
   "name": "python3"
  },
  "language_info": {
   "codemirror_mode": {
    "name": "ipython",
    "version": 3
   },
   "file_extension": ".py",
   "mimetype": "text/x-python",
   "name": "python",
   "nbconvert_exporter": "python",
   "pygments_lexer": "ipython3",
   "version": "3.11.5"
  }
 },
 "nbformat": 4,
 "nbformat_minor": 5
}
